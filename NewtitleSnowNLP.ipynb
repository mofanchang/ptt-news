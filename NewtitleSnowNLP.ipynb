{
  "nbformat": 4,
  "nbformat_minor": 0,
  "metadata": {
    "colab": {
      "provenance": [],
      "mount_file_id": "1nhDe_flxUow4MEC-yGDb2T1HsJ0ATGkm",
      "authorship_tag": "ABX9TyMH3Ctx70OJ16XA41xcqk6G",
      "include_colab_link": true
    },
    "kernelspec": {
      "name": "python3",
      "display_name": "Python 3"
    },
    "language_info": {
      "name": "python"
    }
  },
  "cells": [
    {
      "cell_type": "markdown",
      "metadata": {
        "id": "view-in-github",
        "colab_type": "text"
      },
      "source": [
        "<a href=\"https://colab.research.google.com/github/mofanchang/ptt-news/blob/main/NewtitleSnowNLP.ipynb\" target=\"_parent\"><img src=\"https://colab.research.google.com/assets/colab-badge.svg\" alt=\"Open In Colab\"/></a>"
      ]
    },
    {
      "cell_type": "code",
      "source": [
        "import requests\n",
        "from bs4 import BeautifulSoup\n",
        "\n",
        "r = requests.get('https://finance.ettoday.net/focus/104')\n",
        "soup = BeautifulSoup(r.text, 'lxml')"
      ],
      "metadata": {
        "id": "iSfxrH6lCtjZ"
      },
      "execution_count": null,
      "outputs": []
    },
    {
      "cell_type": "code",
      "source": [
        "a_tags = soup.select('h3 a')\n",
        "for t in a_tags:\n",
        "    print(t.text)"
      ],
      "metadata": {
        "colab": {
          "base_uri": "https://localhost:8080/"
        },
        "id": "lp0VFMJmCuEG",
        "outputId": "4bd9b52e-f42e-4078-d1d1-631c9b088306"
      },
      "execution_count": null,
      "outputs": [
        {
          "output_type": "stream",
          "name": "stdout",
          "text": [
            "擔心「台灣有事」　日商JERA傳撤出海鼎風電\n",
            "日商JERA傳撤出海鼎風電　急發聲明「重申對台現行專案堅定承諾」\n",
            "剛睡醒接「台積電面試電話」！她喊1句：感覺涼了\n",
            "即／威力彩5.7億開獎！今年最高獎金來了\n",
            "八方雲集今調漲新價目表曝光！最貴1顆10元\n",
            "待台積電6年！面試文具店「輸給超商妹妹」\n",
            "比雞蛋漲更多！主計總處認了：這類用品漲最兇\n",
            "「3生肖」財運噴發！威力彩今飆5.7億　中獎撇步一次看\n",
            "張國煒甩「敗家子」形象！　星宇航開始賺錢、營收創新高\n",
            "底薪漲到2萬6400元！實領金額卻變少　妹子哭了\n",
            "正妹騎公路車回家忘報備　媽聽高雄→雲林：妳有病？\n",
            "女孩騎鴕鳥牌車車上課　手勢控制方向師生驚嘆\n",
            "台灣搜救隊被「客氣趕走」　土國翻譯教授難過反被安慰\n",
            "白沙屯媽突轉彎衝入民宅！　進窄門360度迴轉網喊感動\n",
            "新聞雲APP週週躺著抽\n",
            "2023兔潮來襲添好運\n",
            "全台房巿焦點，購屋天堂在哪?\n",
            "【新年到】毛孩的奇幻賀年\n",
            "ETtoday Podcast聽起來\n"
          ]
        }
      ]
    },
    {
      "cell_type": "code",
      "source": [
        "from snownlp import SnowNLP\n",
        "\n",
        "s = SnowNLP(u'这个东西真心很赞')\n",
        "\n",
        "s.sentiments  "
      ],
      "metadata": {
        "colab": {
          "base_uri": "https://localhost:8080/"
        },
        "id": "yKMmbD6WkWEx",
        "outputId": "c32f9b55-f60f-43f1-ced2-548bb440e684"
      },
      "execution_count": null,
      "outputs": [
        {
          "output_type": "execute_result",
          "data": {
            "text/plain": [
              "0.9769551298267365"
            ]
          },
          "metadata": {},
          "execution_count": 20
        }
      ]
    },
    {
      "cell_type": "code",
      "source": [
        "from snownlp import SnowNLP\n",
        "\n",
        "texts = [\n",
        "u'擔心「台灣有事」　日商JERA傳撤出海鼎風電',\n",
        "u'日商JERA傳撤出海鼎風電　急發聲明「重申對台現行專案堅定承諾」',\n",
        "u'剛睡醒接「台積電面試電話」！她喊1句：感覺涼了',\n",
        "u'即／威力彩5.7億開獎！今年最高獎金來了',\n",
        "u'八方雲集今調漲新價目表曝光！最貴1顆10元',\n",
        "u'待台積電6年！面試文具店「輸給超商妹妹」',\n",
        "u'比雞蛋漲更多！主計總處認了：這類用品漲最兇',\n",
        "u'「3生肖」財運噴發！威力彩今飆5.7億　中獎撇步一次看',\n",
        "u'張國煒甩「敗家子」形象！　星宇航開始賺錢、營收創新高',\n",
        "u'底薪漲到2萬6400元！實領金額卻變少　妹子哭了',\n",
        "u'正妹騎公路車回家忘報備　媽聽高雄→雲林：妳有病？',\n",
        "u'女孩騎鴕鳥牌車車上課　手勢控制方向師生驚嘆',\n",
        "u'台灣搜救隊被「客氣趕走」　土國翻譯教授難過反被安慰',\n",
        "u'白沙屯媽突轉彎衝入民宅！　進窄門360度迴轉網喊感動',\n",
        "u'新聞雲APP週週躺著抽',\n",
        "u'2023兔潮來襲添好運',\n",
        "u'全台房巿焦點，購屋天堂在哪?,'\n",
        "u'【新年到】毛孩的奇幻賀年']\n",
        "\n",
        "for text in texts:\n",
        "    s = SnowNLP(text)\n",
        "    sentiment_score = s.sentiments\n",
        "    if sentiment_score > 0.5:\n",
        "        print(\"Positive sentiment\")\n",
        "    else:\n",
        "        print(\"Negative sentiment\")\n"
      ],
      "metadata": {
        "colab": {
          "base_uri": "https://localhost:8080/"
        },
        "id": "X6mNKGuckuIY",
        "outputId": "143cb39f-4204-4c42-f728-a2ba3481572b"
      },
      "execution_count": null,
      "outputs": [
        {
          "output_type": "stream",
          "name": "stdout",
          "text": [
            "Negative sentiment\n",
            "Positive sentiment\n",
            "Negative sentiment\n",
            "Positive sentiment\n",
            "Negative sentiment\n",
            "Negative sentiment\n",
            "Negative sentiment\n",
            "Positive sentiment\n",
            "Negative sentiment\n",
            "Positive sentiment\n",
            "Negative sentiment\n",
            "Negative sentiment\n",
            "Negative sentiment\n",
            "Negative sentiment\n",
            "Negative sentiment\n",
            "Positive sentiment\n",
            "Negative sentiment\n"
          ]
        }
      ]
    }
  ]
}